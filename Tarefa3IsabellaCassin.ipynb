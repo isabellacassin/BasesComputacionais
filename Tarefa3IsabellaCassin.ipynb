{
  "nbformat": 4,
  "nbformat_minor": 0,
  "metadata": {
    "colab": {
      "provenance": [],
      "authorship_tag": "ABX9TyPatQHPs3A5RyvpxpYt4YTC",
      "include_colab_link": true
    },
    "kernelspec": {
      "name": "python3",
      "display_name": "Python 3"
    },
    "language_info": {
      "name": "python"
    }
  },
  "cells": [
    {
      "cell_type": "markdown",
      "metadata": {
        "id": "view-in-github",
        "colab_type": "text"
      },
      "source": [
        "<a href=\"https://colab.research.google.com/github/isabellacassin/BasesComputacionais/blob/master/Tarefa3IsabellaCassin.ipynb\" target=\"_parent\"><img src=\"https://colab.research.google.com/assets/colab-badge.svg\" alt=\"Open In Colab\"/></a>"
      ]
    },
    {
      "cell_type": "markdown",
      "source": [
        "TAREFA 3"
      ],
      "metadata": {
        "id": "YzsmlGZQZZfD"
      }
    },
    {
      "cell_type": "markdown",
      "source": [
        "Isabella Cassin RA 11202020189\n"
      ],
      "metadata": {
        "id": "rUHLqBzpZJpU"
      }
    },
    {
      "cell_type": "code",
      "execution_count": 11,
      "metadata": {
        "colab": {
          "base_uri": "https://localhost:8080/"
        },
        "id": "hgHNaJBaZAiS",
        "outputId": "c40782af-29f9-4fb5-aa4f-bbd140497491"
      },
      "outputs": [
        {
          "output_type": "stream",
          "name": "stdout",
          "text": [
            "5400.0 segundos em uma hora e meia\n"
          ]
        }
      ],
      "source": [
        "# calcular o número de segundos, dado o número de horas contida em uma variável\n",
        "h = 1 #definindo a variável para hora\n",
        "s = 3600*h #definindo a variável para segundos\n",
        "print(1.5*s , \"segundos em uma hora e meia\") #denifição que quero uma hora e meia + o texto"
      ]
    },
    {
      "cell_type": "code",
      "source": [
        "h = 1\n",
        "s = 3600*h \n",
        "print(12*s , \"segundos em doze horas\")\n"
      ],
      "metadata": {
        "colab": {
          "base_uri": "https://localhost:8080/"
        },
        "id": "W4Ta6mfLaDPd",
        "outputId": "2ae8069f-e72d-4a0d-8d59-3facd4dfbbc7"
      },
      "execution_count": 16,
      "outputs": [
        {
          "output_type": "stream",
          "name": "stdout",
          "text": [
            "43200 segundos em doze horas\n"
          ]
        }
      ]
    },
    {
      "cell_type": "code",
      "source": [
        "h = 1\n",
        "s = 3600*h\n",
        "print(24*s , \"segundos em vinte e quatro horas\")"
      ],
      "metadata": {
        "colab": {
          "base_uri": "https://localhost:8080/"
        },
        "id": "yH54hVm2cwZT",
        "outputId": "ca37ed9f-1e9f-4a00-9c5c-6bf2ca53cccc"
      },
      "execution_count": 17,
      "outputs": [
        {
          "output_type": "stream",
          "name": "stdout",
          "text": [
            "86400 segundos em vinte e quatro horas\n"
          ]
        }
      ]
    },
    {
      "cell_type": "code",
      "source": [],
      "metadata": {
        "id": "msDTyclocchS"
      },
      "execution_count": null,
      "outputs": []
    }
  ]
}